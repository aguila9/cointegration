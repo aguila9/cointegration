{
 "cells": [
  {
   "cell_type": "markdown",
   "metadata": {},
   "source": [
    "# Notes on Co-integration, Error Correction, and the Econometric Analysis of Non-Stationary Data\n",
    "by Anindya Banerjee, Juan Dolado, J. W. Galbraith, David Hendry (z-lib.org)"
   ]
  },
  {
   "cell_type": "markdown",
   "metadata": {},
   "source": [
    "## Chapter 1"
   ]
  },
  {
   "cell_type": "markdown",
   "metadata": {},
   "source": [
    "An equilibrium state is defined as one in which there is no inherent tendency to change.  Equilibria are states to which the sistem is atracted, other things equal.\n",
    "\n",
    "\"Long-run equilibrium\" is also used to denote the equilibrium relationship to which a system converges over time.\n",
    "\n",
    "The present is the long-run outcome of the distant past and, a long-run relationship will often hold 'on average' over time."
   ]
  },
  {
   "cell_type": "markdown",
   "metadata": {},
   "source": [
    "We say that an equilibrium relationship $f(x_1, x_2)=0$ hold between two variable, if the amount $\\epsilon_t = f(x_{1t}, x_{2t})$ by which actual observations deviate from this equilibrium is a median-zero **stationary process**.\n",
    "The short run $\\epsilon_t$ in an equilibrium relationship must have no tendency to grow systematically over time."
   ]
  },
  {
   "cell_type": "markdown",
   "metadata": {},
   "source": [
    "This concept of statistical equilibrium is useful in examining equilibrium relationships between vairables tending to grow over time.  If the actual relationship is $x_1 = \\beta x_2$ the discropancy $x_{1t} - b x_{2t}$ will be nonstationary for $b \\neq \\beta$.  Only the true relationship can yield a stationary discrepancy."
   ]
  },
  {
   "cell_type": "markdown",
   "metadata": {},
   "source": [
    "If there exists a stable equilibrium $x_1 = \\beta x_2$, the discrepancy ${x_{1t} - \\beta x_{2t}}$ contains useful information since on average the system will move towards that equilibrium.\n",
    "\n",
    "In particular ${x_{1t-1} - \\beta x_{2t-1}}$ represent the previous disequilibrium. It is called *error-correction mechanism* and is included in dynamic regressions. If ${x_{1t-1} - \\beta x_{2t-1}}$ is positive, $x_{1t-1}$ is to high and on avergae we might expect a fall in $x_1$ future periods."
   ]
  },
  {
   "cell_type": "markdown",
   "metadata": {},
   "source": [
    "The practice of exploiting information contained in the current deviation from an equilibrium relationship, in explaining the path of a variable, has benefited from the formalization of the concept of co-integration by Granger (1981) and Engle and Granger (1987)."
   ]
  },
  {
   "cell_type": "markdown",
   "metadata": {},
   "source": [
    "A series is said to be integrated of order 1 $(I(1))$ if, although it is itself non-stationary, the changes in this series form a stationary series. A stationary series is denoted as $(I(0))$ "
   ]
  },
  {
   "cell_type": "markdown",
   "metadata": {},
   "source": [
    "The definition of co-integration does require stationarity of the deviation ${x_{1t} - \\beta x_{2t}}$\n",
    "\n",
    "A linear relation yields a stationary deviation."
   ]
  },
  {
   "cell_type": "markdown",
   "metadata": {},
   "source": [
    "An *integrated process* is one that can be made stationary by differrenciang. A discrete process integrated of orde $d$ must be differenced $d$ times to reach stationarity.\n",
    "\n",
    "If $x_t$ is stationary then so is $\\Delta x_t$"
   ]
  }
 ],
 "metadata": {
  "kernelspec": {
   "display_name": "Python 3",
   "language": "python",
   "name": "python3"
  },
  "language_info": {
   "codemirror_mode": {
    "name": "ipython",
    "version": 3
   },
   "file_extension": ".py",
   "mimetype": "text/x-python",
   "name": "python",
   "nbconvert_exporter": "python",
   "pygments_lexer": "ipython3",
   "version": "3.8.5"
  }
 },
 "nbformat": 4,
 "nbformat_minor": 4
}
