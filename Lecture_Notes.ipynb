{
 "cells": [
  {
   "cell_type": "markdown",
   "metadata": {},
   "source": [
    "# Lecture Notes"
   ]
  },
  {
   "cell_type": "markdown",
   "metadata": {},
   "source": [
    "Brownian Motion Time Series / Random Walk is referred to as non-Stationary. If Brownian Motion is a series of residuals, The sum of residuals in continuous time will become an Integrated Series."
   ]
  },
  {
   "cell_type": "markdown",
   "metadata": {},
   "source": [
    "**Causality Time Series Analysis**\n",
    "\n",
    "Classic\n",
    "- CORRELATION (misused to analyze causality) / affine\n",
    "- Explained Variance \n",
    "    - R2 for PCA\n",
    "    - F test score for feature selection\n",
    "    - ANOVA (Isolate variance in regression analysis)\n",
    "\n",
    "Adding\n",
    "- Granger causality test. Allows to properly look at causality. Is like a covariance matrix transformed into a causality matrix of (0, 1). Residual Covariance Matrix is very informative for co-linearity. It may suggest that either a pair of time series are driven by one factor, or they show a colinear regression (Regression analysis doesn’t like co-linearity). It is not good to have large numbers in the residual covariance matrix, it means you have a large amount of unexplained variance between two variables.\n",
    "- Cointegration / affine"
   ]
  },
  {
   "cell_type": "markdown",
   "metadata": {},
   "source": [
    "**Equilibrium correction equation.**\n",
    "\n",
    "Is different than correlation. It will have two parts, short term and long term.\n",
    "\n",
    "If you try to regress 2 nonstationary time series, you are regressing 1 random process on another.  *You will get high R2*. But you can construct a time series of a spread ($\\beta$ is used to make the time series of the same order).\n",
    "\n",
    "$$Price A - \\beta Price B$$\n",
    "\n",
    "**If this is stationary you can stablish cointegration**, and you can engage in various types of forecasting. $\\beta$ also normalizes the prices.\n",
    "\n",
    "It is very chanllengin to predict prices direccion using ML.\n",
    "\n",
    "The proper statistical model to predict, to fit in, one price to another, or working with a stationary spread is cointegration.  Cointegration don’t predict prices, but you can model the spread and its conditions. Regression is not the way to go for causality.\n",
    "\n",
    "When you work with prices is also known as working *in levels*.\n",
    "\n",
    "Price leves are non-stationary and regresing price series on another is spurious. $R^2$ improve win $N_{obs}$.\n",
    "\n",
    "Linear regression we need quantities that are close to standard normal.  We compute linear regression or correlation on returns.\n",
    "\n",
    "We don't look at the abs value of $\\beta$, we look for $\\beta$ to be significant in terms of who much variace can be explained. We look at p-value or CV of t-statistic. We want to see critical value more than 3.  The p-value would be below 0.005, for correlated data sets.\n",
    "\n",
    "Vector AutoRegression = endogenous “model free” set up. Fail at forecasting daily returns. For standard econometric tool daily is high frequency. MAPE = Mean Absolute Percentage Error"
   ]
  },
  {
   "cell_type": "markdown",
   "metadata": {},
   "source": [
    "**COINTEGRATION IN PRICES**\n",
    "\n",
    "The classical steady state Equilibrium means that we are going to have constant growth rate.  Constant growth rate will relate two returns, or in a simpler case we use price differences.\n",
    "\n",
    "$$\\Delta P_t^A = \\beta_g \\Delta P_t^B$$\n",
    "\n",
    "$$\\Delta P_t = P_t - P_{t-1}$$ \n",
    "\n",
    "If $\\beta_g$ is constant, we have constant growth rate, and steady state equilibrium.  This price difference are the short term relationship (e.g. daily).\n",
    "\n",
    "For the long-term relationship we add the cointegrating factor, or spread.\n",
    "\n",
    "$$\\Delta P_t^{A=1} = \\beta_{11} \\Delta P_t^B  + \\beta_{12} \\text{Coint Factor} $$\n",
    "\n",
    "$$\\Delta P_t^{B=2} = \\beta_{21} \\Delta P_t^A  + \\beta_{22} \\text{Coint Factor} $$\n",
    "\n",
    "The Cointegrating Factor is the spread $P_t^A - \\beta P_t^B$. That means that the spread influence PriceA.  This correction model is appropriate for equities/futures/rate levels.\n",
    "\n",
    "$\\beta_{12}$ and $\\beta_{22}$ should be negative an very smaill.\n",
    "\n",
    "Event driven arb. Acquisition driven. Target stock is a proxy, should start to move with the acquirer stock. They should co-move. We will check the cointegration between them.  Normalize $P_t/P_0$ separately for both stocks.\n",
    "\n",
    "We use regression to get $\\beta$ and coinsidentally the spread.\n",
    "\n",
    "$$P_t^A = a + \\beta P_t^B\\;\\;\\text{Regression}$$\n",
    "\n",
    "$$e_t = \\text{spread at time t}$$\n",
    "\n",
    "$$e_t = P_t^A - \\beta P_t^B - a$$\n",
    "\n",
    "We shifted from working with prices to working with differences in prices and created a model where spread drives the change.  (The bigger the spread, the bigger the correction and vice versa)."
   ]
  },
  {
   "cell_type": "markdown",
   "metadata": {},
   "source": [
    "**Granger-Johansen Representation**\n",
    "\n",
    "You can represent each time series as a collection of errors.\n",
    "\n",
    "If we regress $P_t^B$ on $P_t^A$ and $\\beta$ is significan (Close to 1) regression is valid, and you can represent $P_t^B$ as something + the residuals of $P_t^A$.\n",
    "\n",
    "$$P_t^A = P_0^A + \\sum \\epsilon_s^A \\;\\text{Integrated Process}$$\n",
    "\n",
    "$$P_t^B = P_{t-1}^A + \\epsilon_t^B \\;\\text{Valid Regression, Assumes} \\beta \\approx 1$$\n",
    "\n",
    "$$P_t^B = P_0^A + \\sum \\epsilon_s^A - \\epsilon_t^A + \\epsilon_t^B$$\n",
    "\n",
    "If we represent $P_t^A$ as a collecion of residuals. And then we regress $P_t^A$ on $P_t^B$. $P_t^B$ is also a collection of the same residuals. This has 2 implications, if regression is valid $P_t^A – P_t^B$ eliminates the residual $\\sum \\epsilon_s^A$. There are fewer feedbacks than variables.  You have cointegration.\n",
    "\n",
    "If we regress $P_t^B on P_t^A$ and the regression is valid. We do $P_t^A – P_t^B$ and formulate a random process. We no longer have $P_t^A$ or $P_t^B$. We end up with one random processes (Sum of residuals) driving A and B. **This is cointegration**. Co-movement is not the same!!!\n",
    "\n",
    "> **AR(1)** Autoregression process Order 1\n",
    "\n",
    "> **MA(inf)** Moving Average process Order Inf."
   ]
  },
  {
   "cell_type": "markdown",
   "metadata": {},
   "source": [
    "**Integrated Process (unit root)**\n",
    "\n",
    "$$\\boldsymbol{Y}_t = \\beta\\boldsymbol{Y}_{t-1}+\\epsilon_t$$\n",
    "$$\\boldsymbol{Y}_t = \\beta(\\beta\\boldsymbol{Y}_{t-2}+\\epsilon_{t-1})+\\epsilon_t$$\n",
    "$$\\boldsymbol{Y}_t = \\beta(\\beta(\\beta\\boldsymbol{Y}_{t-3}+\\epsilon_{t-2})+\\epsilon_{t-1})+\\epsilon_t$$\n",
    "$$\\boldsymbol{Y}_t = \\beta^n\\boldsymbol{Y}_{t-n}+\\sum_{n=1}^t(\\beta^{n-1}\\epsilon_{t-(n-1)})$$\n",
    "We went from AR(1) to MA(inf) we represented the process as a collection of reciduals\n",
    "\n",
    "The perfect unit root case $\\beta = 1$\n",
    "$$\\boldsymbol{Y}_t = \\epsilon_{t}+\\epsilon_{t-1}+\\epsilon_{t-2}+...+\\boldsymbol{Y}_0 = \\sum\\epsilon_s+\\boldsymbol{Y}_0$$\n",
    "\n",
    "In continuos time\n",
    "$$\\epsilon_{t,\\tau}=\\int_t^{t+\\tau}\\sigma dW_s,\\;\\;\\text{where}\\;\\epsilon\\sim N(0, \\hat{\\sigma}^2)$$\n",
    "\n",
    "To simulate random walk (BM) process adds up increments\n",
    "$$d\\boldsymbol{Y}_t=\\sigma dW_t$$\n",
    "$$\\boldsymbol{Y}_t=\\sum\\sigma dW_s = \\sum\\epsilon_s$$"
   ]
  },
  {
   "cell_type": "markdown",
   "metadata": {},
   "source": [
    "**DF test, stationarity test**\n",
    "\n",
    "DF critical value for 1% level is +/- 2.574245\n",
    "\n",
    "We start with a simple AR(1) process\n",
    "$$Y_t = \\beta Y_{t-1} + \\epsilon_t$$\n",
    "Substract $Y_{t-1}$ from both sizes\n",
    "$$Y_t - Y_{t-1} = (\\beta-1) Y_{t-1} + \\epsilon_t$$\n",
    "We end up with test equation\n",
    "$$\\Delta Y_t=\\phi Y_{t-1} + \\epsilon_t$$\n",
    "\n",
    "The Null Hipotesis $H_0: \\phi = 0$ ($\\phi$ insignificatn, true value 0)\n",
    "\n",
    "The Alte Hipotesis $H_1: \\phi \\neq 0$ ($\\phi$ significant)\n",
    "\n",
    "IF $\\phi = \\beta - 1 = 0$, then it holds $\\beta=1$. The process has unit root.\n",
    "\n",
    "If t-statistic is high $> 2$ we reject "
   ]
  },
  {
   "cell_type": "markdown",
   "metadata": {},
   "source": [
    "**Augmented DF Test**\n",
    "\n",
    "Augmentation takes into account the idea that there could be other correlations (for example t-2) inside the time series itself.\n",
    "\n",
    "$$\\Delta Y_t=\\phi_1 Y_{t-1} + \\sum_{k=2}^p \\phi_k \\Delta Y_{t-k} + \\epsilon_t$$\n",
    "$$\\Delta Y_t=\\phi_1 Y_{t-1} + \\sum_{k=2}^p \\phi_k \\Delta Y_{t-k} + a +\\beta_t t + \\epsilon_t$$\n",
    "\n",
    "$a =$ constant\n",
    "\n",
    "Do not include $\\beta_t t$ when using financial time series, it will overfit.\n"
   ]
  },
  {
   "cell_type": "markdown",
   "metadata": {},
   "source": [
    "**Estimating Cointegration. Equilibrium Correction Model (ECM)**\n",
    "\n",
    "- **Step 1** – Obtain the fitted residuals by regressing $P_t^A$ on $P_t^B$\n",
    "$$P_t^A = \\beta_0 + \\beta_1 P_t^B + \\epsilon_t$$\n",
    "to get \n",
    "$$\\hat{e}_t = P_t^A - \\hat{\\beta}_C P_t^B - Const;\\;\\; \\beta_1 = \\hat{\\beta}_C$$\n",
    "Then test $e_t$ for stationarity (ADF lag=1)\n",
    "\n",
    "- **Step 2** – Set up correction equations and check significance in short term component and then check significance for yesterday spread (same spread for both equations).\n",
    "$$\\Delta P_t^A = \\phi\\Delta P_t^B-(1-\\alpha)\\hat{e}_{t-1}$$\n",
    "$$\\Delta P_t^A = \\phi\\Delta P_t^B-(1-\\alpha)(P_{t-1}^A-\\hat{\\beta_C} P_{t-1}^B-\\mu_e)$$\n",
    "Confirm the significance of $(1-\\alpha)$. Which mean that yesterday spread effects change in price today.\n",
    "Correction to equilibrium comes in very small moves.\n",
    "$$\\Delta P_t^A = \\phi_{shortrun}(P_t^B - P_{t-1}^B)+\\phi_{longrun}(P_{t-1}^A - \\hat{\\beta}_C P_{t-1}^B)$$\n",
    "- **Step 3** – OU SDE *fitting for trading strategy*"
   ]
  },
  {
   "cell_type": "code",
   "execution_count": null,
   "metadata": {},
   "outputs": [],
   "source": []
  }
 ],
 "metadata": {
  "kernelspec": {
   "display_name": "Python 3",
   "language": "python",
   "name": "python3"
  },
  "language_info": {
   "codemirror_mode": {
    "name": "ipython",
    "version": 3
   },
   "file_extension": ".py",
   "mimetype": "text/x-python",
   "name": "python",
   "nbconvert_exporter": "python",
   "pygments_lexer": "ipython3",
   "version": "3.8.5"
  }
 },
 "nbformat": 4,
 "nbformat_minor": 4
}
